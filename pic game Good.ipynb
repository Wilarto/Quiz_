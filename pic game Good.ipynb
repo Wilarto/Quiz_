{
 "cells": [
  {
   "cell_type": "markdown",
   "metadata": {},
   "source": [
    "**MindReader Source Code**"
   ]
  },
  {
   "cell_type": "code",
   "execution_count": 45,
   "metadata": {},
   "outputs": [
    {
     "name": "stdout",
     "output_type": "stream",
     "text": [
      "AdobeStock_294376102_Preview.jpeg\n"
     ]
    },
    {
     "data": {
      "application/vnd.jupyter.widget-view+json": {
       "model_id": "6880f1cda79c44e7b7ec2953ae16e932",
       "version_major": 2,
       "version_minor": 0
      },
      "text/plain": [
       "HBox(children=(Button(description='Original', style=ButtonStyle()), Button(description='Fake', style=ButtonSty…"
      ]
     },
     "metadata": {},
     "output_type": "display_data"
    }
   ],
   "source": [
    "from ipywidgets import *\n",
    "import numpy as np \n",
    "from random import *\n",
    "\n",
    "import random, os\n",
    "path = r\"/Users/arturwillonski/Desktop/random python\"\n",
    "random_filename = random.choice([\n",
    "    x for x in os.listdir(path)\n",
    "    if os.path.isfile(os.path.join(path, x))\n",
    "])\n",
    "print(random_filename)\n",
    "\n",
    "btn_original = Button( description='Original')\n",
    "btn_fake = Button( description='Fake')\n",
    "btns = HBox([ btn_original, btn_fake ])\n",
    "btns"
   ]
  },
  {
   "cell_type": "markdown",
   "metadata": {},
   "source": [
    "**Create buttons**"
   ]
  },
  {
   "cell_type": "code",
   "execution_count": null,
   "metadata": {},
   "outputs": [],
   "source": []
  },
  {
   "cell_type": "code",
   "execution_count": 37,
   "metadata": {},
   "outputs": [],
   "source": [
    "def click_original(b):\n",
    "    update_game(0)\n",
    "btn_zero.on_click( click_original )"
   ]
  },
  {
   "cell_type": "code",
   "execution_count": 38,
   "metadata": {},
   "outputs": [],
   "source": [
    "def click_fake(b):\n",
    "    update_game(1)\n",
    "btn_one.on_click( click_fake )"
   ]
  },
  {
   "cell_type": "markdown",
   "metadata": {},
   "source": [
    "**Scoreboard widget**"
   ]
  },
  {
   "cell_type": "code",
   "execution_count": 46,
   "metadata": {},
   "outputs": [
    {
     "data": {
      "application/vnd.jupyter.widget-view+json": {
       "model_id": "89933c1174fa4e8fa2bb83025a5fd295",
       "version_major": 2,
       "version_minor": 0
      },
      "text/plain": [
       "VBox(children=(IntProgress(value=0, bar_style='success', description='Correct:', max=5), IntProgress(value=0, …"
      ]
     },
     "metadata": {},
     "output_type": "display_data"
    }
   ],
   "source": [
    "usr_score = IntProgress( value=0, min=0, max=5, description='Correct:', bar_style='success')\n",
    "bot_score = IntProgress( value=0, min=0, max=5, description='Fake:', bar_style='danger')\n",
    "scoreboard = VBox([ usr_score, bot_score ])\n",
    "scoreboard"
   ]
  },
  {
   "cell_type": "markdown",
   "metadata": {},
   "source": [
    "**Game over widget**"
   ]
  },
  {
   "cell_type": "code",
   "execution_count": 47,
   "metadata": {},
   "outputs": [
    {
     "data": {
      "application/vnd.jupyter.widget-view+json": {
       "model_id": "0ef55a29cbeb402e8e79cdb7f810fb7b",
       "version_major": 2,
       "version_minor": 0
      },
      "text/plain": [
       "HTML(value=\"<h1 style='color:green' > You Win!</h1>\")"
      ]
     },
     "metadata": {},
     "output_type": "display_data"
    }
   ],
   "source": [
    "final_msg = HTML(\"<h1 style='color:green' > You Win!</h1>\")\n",
    "final_msg"
   ]
  },
  {
   "cell_type": "markdown",
   "metadata": {},
   "source": [
    "**game_box**"
   ]
  },
  {
   "cell_type": "code",
   "execution_count": 48,
   "metadata": {},
   "outputs": [
    {
     "data": {
      "application/vnd.jupyter.widget-view+json": {
       "model_id": "b968756001e14ab782f7cb4bb4cd3877",
       "version_major": 2,
       "version_minor": 0
      },
      "text/plain": [
       "VBox(children=(HBox(children=(VBox(children=(IntProgress(value=0, bar_style='success', description='Correct:',…"
      ]
     },
     "metadata": {},
     "output_type": "display_data"
    }
   ],
   "source": [
    "game_box = VBox([       HBox([ scoreboard, final_msg]),\n",
    "                        btns\n",
    "                ])\n",
    "game_box"
   ]
  },
  {
   "cell_type": "code",
   "execution_count": 49,
   "metadata": {},
   "outputs": [],
   "source": [
    "final_msg.layout.visibility = 'hidden'"
   ]
  },
  {
   "cell_type": "code",
   "execution_count": null,
   "metadata": {},
   "outputs": [],
   "source": []
  },
  {
   "cell_type": "markdown",
   "metadata": {},
   "source": [
    "# Function: <font color=\"purple\">update_game</font>"
   ]
  },
  {
   "cell_type": "code",
   "execution_count": 50,
   "metadata": {},
   "outputs": [],
   "source": [
    "usr_history = []"
   ]
  },
  {
   "cell_type": "code",
   "execution_count": 51,
   "metadata": {},
   "outputs": [],
   "source": [
    "usr_history.append(1)"
   ]
  },
  {
   "cell_type": "code",
   "execution_count": 52,
   "metadata": {},
   "outputs": [],
   "source": [
    "usr_history.append(0)"
   ]
  },
  {
   "cell_type": "code",
   "execution_count": 53,
   "metadata": {},
   "outputs": [
    {
     "data": {
      "text/plain": [
       "[1, 0]"
      ]
     },
     "execution_count": 53,
     "metadata": {},
     "output_type": "execute_result"
    }
   ],
   "source": [
    "usr_history"
   ]
  },
  {
   "cell_type": "code",
   "execution_count": 54,
   "metadata": {},
   "outputs": [],
   "source": [
    "def update_game(usr_choice):\n",
    "    prob = sum(usr_history)/len(usr_history)\n",
    "    comp_choise = np.random.binomial(1, prob  , 1)[0] \n",
    "    usr_history.append( usr_choice )\n",
    "    \n",
    "    if comp_choise == usr_choice:\n",
    "        bot_score.value += 1\n",
    "    else:\n",
    "        usr_score.value += 1\n",
    "    \n",
    "    \n",
    "    if bot_score.value == 50 or usr_score.value == 50 :\n",
    "        if bot_score.value == 50:\n",
    "            final_msg.value= \"<h1 style='color:red' > You Loose!</h1>\"\n",
    "        final_msg.layout.visibility = \"visible\"\n",
    "        btn_zero.disabled = True\n",
    "        btn_one.disabled = True"
   ]
  },
  {
   "cell_type": "code",
   "execution_count": 55,
   "metadata": {},
   "outputs": [
    {
     "data": {
      "application/vnd.jupyter.widget-view+json": {
       "model_id": "b968756001e14ab782f7cb4bb4cd3877",
       "version_major": 2,
       "version_minor": 0
      },
      "text/plain": [
       "VBox(children=(HBox(children=(VBox(children=(IntProgress(value=0, bar_style='success', description='Correct:',…"
      ]
     },
     "metadata": {},
     "output_type": "display_data"
    }
   ],
   "source": [
    "display( game_box )"
   ]
  },
  {
   "cell_type": "code",
   "execution_count": null,
   "metadata": {},
   "outputs": [],
   "source": []
  },
  {
   "cell_type": "code",
   "execution_count": null,
   "metadata": {},
   "outputs": [],
   "source": []
  },
  {
   "cell_type": "code",
   "execution_count": null,
   "metadata": {},
   "outputs": [],
   "source": []
  }
 ],
 "metadata": {
  "kernelspec": {
   "display_name": "Python 3",
   "language": "python",
   "name": "python3"
  },
  "language_info": {
   "codemirror_mode": {
    "name": "ipython",
    "version": 3
   },
   "file_extension": ".py",
   "mimetype": "text/x-python",
   "name": "python",
   "nbconvert_exporter": "python",
   "pygments_lexer": "ipython3",
   "version": "3.7.6"
  }
 },
 "nbformat": 4,
 "nbformat_minor": 2
}
